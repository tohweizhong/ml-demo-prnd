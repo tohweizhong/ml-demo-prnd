{
 "cells": [
  {
   "cell_type": "code",
   "execution_count": 60,
   "metadata": {
    "collapsed": true
   },
   "outputs": [],
   "source": [
    "import pandas as pd\n",
    "import numpy as np\n",
    "from sklearn.model_selection import train_test_split\n",
    "from sklearn.pipeline import Pipeline\n",
    "from sklearn.preprocessing import Imputer\n",
    "from sklearn.ensemble import RandomForestClassifier, GradientBoostingClassifier"
   ]
  },
  {
   "cell_type": "code",
   "execution_count": 61,
   "metadata": {},
   "outputs": [
    {
     "data": {
      "text/html": [
       "<div>\n",
       "<style>\n",
       "    .dataframe thead tr:only-child th {\n",
       "        text-align: right;\n",
       "    }\n",
       "\n",
       "    .dataframe thead th {\n",
       "        text-align: left;\n",
       "    }\n",
       "\n",
       "    .dataframe tbody tr th {\n",
       "        vertical-align: top;\n",
       "    }\n",
       "</style>\n",
       "<table border=\"1\" class=\"dataframe\">\n",
       "  <thead>\n",
       "    <tr style=\"text-align: right;\">\n",
       "      <th></th>\n",
       "      <th>rn</th>\n",
       "      <th>activity</th>\n",
       "      <th>tBodyAcc.mean.X</th>\n",
       "      <th>tBodyAcc.mean.Y</th>\n",
       "      <th>tBodyAcc.mean.Z</th>\n",
       "      <th>tBodyAcc.std.X</th>\n",
       "      <th>tBodyAcc.std.Y</th>\n",
       "      <th>tBodyAcc.std.Z</th>\n",
       "      <th>tBodyAcc.mad.X</th>\n",
       "      <th>tBodyAcc.mad.Y</th>\n",
       "      <th>...</th>\n",
       "      <th>fBodyBodyGyroJerkMag.meanFreq</th>\n",
       "      <th>fBodyBodyGyroJerkMag.skewness</th>\n",
       "      <th>fBodyBodyGyroJerkMag.kurtosis</th>\n",
       "      <th>angle.tBodyAccMean.gravity</th>\n",
       "      <th>angle.tBodyAccJerkMean.gravityMean</th>\n",
       "      <th>angle.tBodyGyroMean.gravityMean</th>\n",
       "      <th>angle.tBodyGyroJerkMean.gravityMean</th>\n",
       "      <th>angle.X.gravityMean</th>\n",
       "      <th>angle.Y.gravityMean</th>\n",
       "      <th>angle.Z.gravityMean</th>\n",
       "    </tr>\n",
       "  </thead>\n",
       "  <tbody>\n",
       "    <tr>\n",
       "      <th>2366</th>\n",
       "      <td>6761</td>\n",
       "      <td>WALKING_DOWNSTAIRS</td>\n",
       "      <td>0.316</td>\n",
       "      <td>-0.0481</td>\n",
       "      <td>-0.1150</td>\n",
       "      <td>0.124</td>\n",
       "      <td>-0.105</td>\n",
       "      <td>-0.155</td>\n",
       "      <td>0.0759</td>\n",
       "      <td>-0.222</td>\n",
       "      <td>...</td>\n",
       "      <td>-0.0387</td>\n",
       "      <td>-0.484</td>\n",
       "      <td>-0.807</td>\n",
       "      <td>-0.2880</td>\n",
       "      <td>0.9190</td>\n",
       "      <td>0.9380</td>\n",
       "      <td>-0.6070</td>\n",
       "      <td>-0.853</td>\n",
       "      <td>0.123</td>\n",
       "      <td>-0.0862</td>\n",
       "    </tr>\n",
       "    <tr>\n",
       "      <th>133</th>\n",
       "      <td>409</td>\n",
       "      <td>LAYING</td>\n",
       "      <td>0.289</td>\n",
       "      <td>-0.0169</td>\n",
       "      <td>-0.1090</td>\n",
       "      <td>-0.993</td>\n",
       "      <td>-0.976</td>\n",
       "      <td>-0.990</td>\n",
       "      <td>-0.9930</td>\n",
       "      <td>-0.977</td>\n",
       "      <td>...</td>\n",
       "      <td>0.2520</td>\n",
       "      <td>-0.544</td>\n",
       "      <td>-0.840</td>\n",
       "      <td>-0.0367</td>\n",
       "      <td>-0.0164</td>\n",
       "      <td>0.1650</td>\n",
       "      <td>0.5950</td>\n",
       "      <td>0.485</td>\n",
       "      <td>-0.531</td>\n",
       "      <td>-0.4670</td>\n",
       "    </tr>\n",
       "    <tr>\n",
       "      <th>1220</th>\n",
       "      <td>3488</td>\n",
       "      <td>SITTING</td>\n",
       "      <td>0.281</td>\n",
       "      <td>-0.0123</td>\n",
       "      <td>-0.0966</td>\n",
       "      <td>-0.998</td>\n",
       "      <td>-0.982</td>\n",
       "      <td>-0.988</td>\n",
       "      <td>-0.9980</td>\n",
       "      <td>-0.981</td>\n",
       "      <td>...</td>\n",
       "      <td>0.4460</td>\n",
       "      <td>-0.468</td>\n",
       "      <td>-0.827</td>\n",
       "      <td>0.0105</td>\n",
       "      <td>-0.0268</td>\n",
       "      <td>-0.1310</td>\n",
       "      <td>-0.0211</td>\n",
       "      <td>-0.857</td>\n",
       "      <td>0.166</td>\n",
       "      <td>0.0931</td>\n",
       "    </tr>\n",
       "    <tr>\n",
       "      <th>1605</th>\n",
       "      <td>4578</td>\n",
       "      <td>SITTING</td>\n",
       "      <td>0.284</td>\n",
       "      <td>-0.0202</td>\n",
       "      <td>-0.1130</td>\n",
       "      <td>-0.991</td>\n",
       "      <td>-0.986</td>\n",
       "      <td>-0.969</td>\n",
       "      <td>-0.9910</td>\n",
       "      <td>-0.984</td>\n",
       "      <td>...</td>\n",
       "      <td>0.2520</td>\n",
       "      <td>-0.455</td>\n",
       "      <td>-0.782</td>\n",
       "      <td>-0.0599</td>\n",
       "      <td>0.1210</td>\n",
       "      <td>0.0296</td>\n",
       "      <td>0.0334</td>\n",
       "      <td>-0.516</td>\n",
       "      <td>-0.095</td>\n",
       "      <td>-0.2610</td>\n",
       "    </tr>\n",
       "    <tr>\n",
       "      <th>515</th>\n",
       "      <td>1456</td>\n",
       "      <td>WALKING_UPSTAIRS</td>\n",
       "      <td>0.330</td>\n",
       "      <td>-0.0361</td>\n",
       "      <td>-0.1180</td>\n",
       "      <td>-0.383</td>\n",
       "      <td>-0.413</td>\n",
       "      <td>-0.203</td>\n",
       "      <td>-0.4200</td>\n",
       "      <td>-0.432</td>\n",
       "      <td>...</td>\n",
       "      <td>-0.0803</td>\n",
       "      <td>-0.332</td>\n",
       "      <td>-0.734</td>\n",
       "      <td>-0.6180</td>\n",
       "      <td>0.5190</td>\n",
       "      <td>-0.4010</td>\n",
       "      <td>-0.6050</td>\n",
       "      <td>-0.478</td>\n",
       "      <td>0.203</td>\n",
       "      <td>0.3750</td>\n",
       "    </tr>\n",
       "  </tbody>\n",
       "</table>\n",
       "<p>5 rows × 563 columns</p>\n",
       "</div>"
      ],
      "text/plain": [
       "        rn            activity  tBodyAcc.mean.X  tBodyAcc.mean.Y  \\\n",
       "2366  6761  WALKING_DOWNSTAIRS            0.316          -0.0481   \n",
       "133    409              LAYING            0.289          -0.0169   \n",
       "1220  3488             SITTING            0.281          -0.0123   \n",
       "1605  4578             SITTING            0.284          -0.0202   \n",
       "515   1456    WALKING_UPSTAIRS            0.330          -0.0361   \n",
       "\n",
       "      tBodyAcc.mean.Z  tBodyAcc.std.X  tBodyAcc.std.Y  tBodyAcc.std.Z  \\\n",
       "2366          -0.1150           0.124          -0.105          -0.155   \n",
       "133           -0.1090          -0.993          -0.976          -0.990   \n",
       "1220          -0.0966          -0.998          -0.982          -0.988   \n",
       "1605          -0.1130          -0.991          -0.986          -0.969   \n",
       "515           -0.1180          -0.383          -0.413          -0.203   \n",
       "\n",
       "      tBodyAcc.mad.X  tBodyAcc.mad.Y         ...           \\\n",
       "2366          0.0759          -0.222         ...            \n",
       "133          -0.9930          -0.977         ...            \n",
       "1220         -0.9980          -0.981         ...            \n",
       "1605         -0.9910          -0.984         ...            \n",
       "515          -0.4200          -0.432         ...            \n",
       "\n",
       "      fBodyBodyGyroJerkMag.meanFreq  fBodyBodyGyroJerkMag.skewness  \\\n",
       "2366                        -0.0387                         -0.484   \n",
       "133                          0.2520                         -0.544   \n",
       "1220                         0.4460                         -0.468   \n",
       "1605                         0.2520                         -0.455   \n",
       "515                         -0.0803                         -0.332   \n",
       "\n",
       "      fBodyBodyGyroJerkMag.kurtosis  angle.tBodyAccMean.gravity  \\\n",
       "2366                         -0.807                     -0.2880   \n",
       "133                          -0.840                     -0.0367   \n",
       "1220                         -0.827                      0.0105   \n",
       "1605                         -0.782                     -0.0599   \n",
       "515                          -0.734                     -0.6180   \n",
       "\n",
       "      angle.tBodyAccJerkMean.gravityMean  angle.tBodyGyroMean.gravityMean  \\\n",
       "2366                              0.9190                           0.9380   \n",
       "133                              -0.0164                           0.1650   \n",
       "1220                             -0.0268                          -0.1310   \n",
       "1605                              0.1210                           0.0296   \n",
       "515                               0.5190                          -0.4010   \n",
       "\n",
       "      angle.tBodyGyroJerkMean.gravityMean  angle.X.gravityMean  \\\n",
       "2366                              -0.6070               -0.853   \n",
       "133                                0.5950                0.485   \n",
       "1220                              -0.0211               -0.857   \n",
       "1605                               0.0334               -0.516   \n",
       "515                               -0.6050               -0.478   \n",
       "\n",
       "      angle.Y.gravityMean  angle.Z.gravityMean  \n",
       "2366                0.123              -0.0862  \n",
       "133                -0.531              -0.4670  \n",
       "1220                0.166               0.0931  \n",
       "1605               -0.095              -0.2610  \n",
       "515                 0.203               0.3750  \n",
       "\n",
       "[5 rows x 563 columns]"
      ]
     },
     "execution_count": 61,
     "metadata": {},
     "output_type": "execute_result"
    }
   ],
   "source": [
    "# import data\n",
    "df = pd.read_csv(\"../data/train.csv\")\n",
    "# source: https://www.kaggle.com/mboaglio/simplifiedhuarus\n",
    "# Classification of activities of daily living using smartphone inertial sensors\n",
    "\n",
    "# first 5 rows\n",
    "df.sample(5)"
   ]
  },
  {
   "cell_type": "code",
   "execution_count": 62,
   "metadata": {},
   "outputs": [
    {
     "name": "stdout",
     "output_type": "stream",
     "text": [
      "(3609,)\n",
      "(3609, 562)\n"
     ]
    }
   ],
   "source": [
    "# separate the target variable (y) with the features (X)\n",
    "y = df[\"activity\"]\n",
    "X = df.drop([\"activity\"], axis = 1)\n",
    "\n",
    "print(y.shape)\n",
    "print(X.shape)"
   ]
  },
  {
   "cell_type": "code",
   "execution_count": 63,
   "metadata": {},
   "outputs": [
    {
     "name": "stdout",
     "output_type": "stream",
     "text": [
      "(2526, 562)\n",
      "(1083, 562)\n"
     ]
    }
   ],
   "source": [
    "# split into training and testing sets for cross-validation, 70:30\n",
    "X_train, X_test, y_train, y_test = train_test_split(X, y,\n",
    "                                                    test_size = 0.3,\n",
    "                                                    random_state = 123)\n",
    "\n",
    "print(X_train.shape)\n",
    "print(X_test.shape)"
   ]
  },
  {
   "cell_type": "code",
   "execution_count": 64,
   "metadata": {},
   "outputs": [],
   "source": [
    "# use a pipeline to capture all steps necessary for to reach the trained model\n",
    "# algorithm used here is the random forest\n",
    "# any data preparation or cleaning steps goes before the model building, e.g.\n",
    "pipeline_rf = Pipeline([(\"imputation\", Imputer(missing_values = \"Nan\",\n",
    "                                            strategy = \"mean\",\n",
    "                                            axis = 0)), \n",
    "                     (\"rf_classifier\", RandomForestClassifier())])\n",
    "# in this example, no data cleaning steps are required\n",
    "pipeline_rf = Pipeline([(\"rf_classifier\", RandomForestClassifier())])"
   ]
  },
  {
   "cell_type": "code",
   "execution_count": 65,
   "metadata": {},
   "outputs": [
    {
     "data": {
      "text/plain": [
       "Pipeline(memory=None,\n",
       "     steps=[('rf_classifier', RandomForestClassifier(bootstrap=True, class_weight=None, criterion='gini',\n",
       "            max_depth=None, max_features='auto', max_leaf_nodes=None,\n",
       "            min_impurity_decrease=0.0, min_impurity_split=None,\n",
       "            min_samples_leaf=1, min_samples_split=2,\n",
       "            min_weight_fraction_leaf=0.0, n_estimators=10, n_jobs=1,\n",
       "            oob_score=False, random_state=None, verbose=0,\n",
       "            warm_start=False))])"
      ]
     },
     "execution_count": 65,
     "metadata": {},
     "output_type": "execute_result"
    }
   ],
   "source": [
    "# fit pipeline to training set (X_train and y_train)\n",
    "pipeline_rf.fit(X_train, y_train)"
   ]
  },
  {
   "cell_type": "code",
   "execution_count": 66,
   "metadata": {
    "collapsed": true
   },
   "outputs": [],
   "source": [
    "# now use the pipeline to make predictions on the testing set (X_test)\n",
    "y_pred = pipeline_rf.predict(X_test)"
   ]
  },
  {
   "cell_type": "code",
   "execution_count": 67,
   "metadata": {},
   "outputs": [
    {
     "data": {
      "text/plain": [
       "0.95106186518928904"
      ]
     },
     "execution_count": 67,
     "metadata": {},
     "output_type": "execute_result"
    }
   ],
   "source": [
    "# check accuracy with the \"answer key\" (y_test)\n",
    "pipeline_rf.score(X_test, y_test)"
   ]
  },
  {
   "cell_type": "code",
   "execution_count": 68,
   "metadata": {},
   "outputs": [
    {
     "data": {
      "text/plain": [
       "0.97691597414589104"
      ]
     },
     "execution_count": 68,
     "metadata": {},
     "output_type": "execute_result"
    }
   ],
   "source": [
    "# repeat the steps with another algorithm\n",
    "# gradient boosting\n",
    "\n",
    "# make pipeline\n",
    "pipeline_gb = Pipeline([(\"gb_classifier\", GradientBoostingClassifier())])\n",
    "\n",
    "# fit to training set\n",
    "pipeline_gb.fit(X_train, y_train)\n",
    "\n",
    "# make predictions\n",
    "y_pred = pipeline_gb.predict(X_test)\n",
    "\n",
    "# check accuracy\n",
    "pipeline_gb.score(X_test, y_test)"
   ]
  }
 ],
 "metadata": {
  "kernelspec": {
   "display_name": "Python 3",
   "language": "python",
   "name": "python3"
  },
  "language_info": {
   "codemirror_mode": {
    "name": "ipython",
    "version": 3
   },
   "file_extension": ".py",
   "mimetype": "text/x-python",
   "name": "python",
   "nbconvert_exporter": "python",
   "pygments_lexer": "ipython3",
   "version": "3.6.3"
  }
 },
 "nbformat": 4,
 "nbformat_minor": 2
}
